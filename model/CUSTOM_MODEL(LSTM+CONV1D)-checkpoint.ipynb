{
 "cells": [
  {
   "cell_type": "code",
   "execution_count": 1,
   "metadata": {
    "_cell_guid": "5331a2b4-cd98-4a5a-9955-3985e3057838",
    "_uuid": "a6173bf0-e4d6-4e7b-a300-a2b2c6a434de",
    "execution": {
     "iopub.execute_input": "2023-10-28T07:29:06.581965Z",
     "iopub.status.busy": "2023-10-28T07:29:06.581415Z",
     "iopub.status.idle": "2023-10-28T07:29:06.590188Z",
     "shell.execute_reply": "2023-10-28T07:29:06.589090Z",
     "shell.execute_reply.started": "2023-10-28T07:29:06.581930Z"
    },
    "jupyter": {
     "outputs_hidden": false
    }
   },
   "outputs": [
    {
     "ename": "ModuleNotFoundError",
     "evalue": "No module named 'sklearn'",
     "output_type": "error",
     "traceback": [
      "\u001b[1;31m---------------------------------------------------------------------------\u001b[0m",
      "\u001b[1;31mModuleNotFoundError\u001b[0m                       Traceback (most recent call last)",
      "Cell \u001b[1;32mIn[1], line 9\u001b[0m\n\u001b[0;32m      6\u001b[0m \u001b[38;5;28;01mimport\u001b[39;00m \u001b[38;5;21;01mjson\u001b[39;00m\n\u001b[0;32m      8\u001b[0m \u001b[38;5;66;03m############### SKLEARN ###############\u001b[39;00m\n\u001b[1;32m----> 9\u001b[0m \u001b[38;5;28;01mfrom\u001b[39;00m \u001b[38;5;21;01msklearn\u001b[39;00m\u001b[38;5;21;01m.\u001b[39;00m\u001b[38;5;21;01mmodel_selection\u001b[39;00m \u001b[38;5;28;01mimport\u001b[39;00m train_test_split \n\u001b[0;32m     10\u001b[0m \u001b[38;5;28;01mfrom\u001b[39;00m \u001b[38;5;21;01msklearn\u001b[39;00m\u001b[38;5;21;01m.\u001b[39;00m\u001b[38;5;21;01mdecomposition\u001b[39;00m \u001b[38;5;28;01mimport\u001b[39;00m PCA\n\u001b[0;32m     12\u001b[0m \u001b[38;5;66;03m############## TENSORFLOW ############\u001b[39;00m\n",
      "\u001b[1;31mModuleNotFoundError\u001b[0m: No module named 'sklearn'"
     ]
    }
   ],
   "source": [
    "############################################### IMPORTS ####################################\n",
    "############ ALGEBRA #################\n",
    "import numpy as np  # linear algebra\n",
    "import pandas as pd  # data processing\n",
    "import os\n",
    "import json\n",
    "\n",
    "############### SKLEARN ###############\n",
    "from sklearn.model_selection import train_test_split \n",
    "\n",
    "############## TENSORFLOW ############\n",
    "import tensorflow as tf\n",
    "from tensorflow import keras\n",
    "from tensorflow.keras import regularizers,layers\n",
    "from tensorflow.keras.models import Sequential\n",
    "from tensorflow.keras.layers import TextVectorization,Conv1D, MaxPooling1D, LSTM, Bidirectional, Dense, BatchNormalization, Dropout"
   ]
  },
  {
   "cell_type": "code",
   "execution_count": 72,
   "metadata": {
    "execution": {
     "iopub.execute_input": "2023-10-28T07:29:06.593339Z",
     "iopub.status.busy": "2023-10-28T07:29:06.592678Z",
     "iopub.status.idle": "2023-10-28T07:29:06.606641Z",
     "shell.execute_reply": "2023-10-28T07:29:06.605625Z",
     "shell.execute_reply.started": "2023-10-28T07:29:06.593277Z"
    }
   },
   "outputs": [
    {
     "data": {
      "text/plain": [
       "'2.12.0'"
      ]
     },
     "execution_count": 72,
     "metadata": {},
     "output_type": "execute_result"
    }
   ],
   "source": [
    "tf.__version__"
   ]
  },
  {
   "cell_type": "code",
   "execution_count": 73,
   "metadata": {
    "_cell_guid": "8f26445c-41b7-4808-bf74-605069701f7f",
    "_uuid": "011c3f5a-502e-40a3-b200-94f7f90a6a12",
    "execution": {
     "iopub.execute_input": "2023-10-28T07:29:06.608967Z",
     "iopub.status.busy": "2023-10-28T07:29:06.608304Z",
     "iopub.status.idle": "2023-10-28T07:29:06.617269Z",
     "shell.execute_reply": "2023-10-28T07:29:06.616354Z",
     "shell.execute_reply.started": "2023-10-28T07:29:06.608936Z"
    },
    "jupyter": {
     "outputs_hidden": false
    }
   },
   "outputs": [],
   "source": [
    "def map_emotion(value):\n",
    "    if value == 0:\n",
    "        return 'sadness'\n",
    "    elif value == 1:\n",
    "        return 'joy'\n",
    "    elif value == 2:\n",
    "        return 'love'\n",
    "    elif value == 3:\n",
    "        return 'anger'\n",
    "    elif value == 4:\n",
    "        return 'fear'\n",
    "    else:\n",
    "        return 'Surprise'"
   ]
  },
  {
   "cell_type": "code",
   "execution_count": 74,
   "metadata": {
    "_cell_guid": "a0a88995-ed40-407d-8eb6-333a703d9e2b",
    "_uuid": "21857770-dcaa-4636-a395-2438fa157af5",
    "execution": {
     "iopub.execute_input": "2023-10-28T07:29:06.619413Z",
     "iopub.status.busy": "2023-10-28T07:29:06.619101Z",
     "iopub.status.idle": "2023-10-28T07:29:06.703185Z",
     "shell.execute_reply": "2023-10-28T07:29:06.702348Z",
     "shell.execute_reply.started": "2023-10-28T07:29:06.619379Z"
    },
    "jupyter": {
     "outputs_hidden": false
    }
   },
   "outputs": [],
   "source": [
    "######## DATA ############\n",
    "FILE_PATH='/emotion-dataset'\n",
    "df_train=pd.read_csv(os.path.join(FILE_PATH,'training.csv'))#Train dataset\n",
    "df_test=pd.read_csv(os.path.join(FILE_PATH,'test.csv')) #Test dataset\n",
    "df_val=pd.read_csv(os.path.join(FILE_PATH,'validation.csv'))#Validation dataset."
   ]
  },
  {
   "cell_type": "code",
   "execution_count": 75,
   "metadata": {
    "_cell_guid": "699814c4-2589-47cc-acef-bb263e3f65d1",
    "_uuid": "d083df7f-8dcd-4ccd-921f-a0981123541a",
    "execution": {
     "iopub.execute_input": "2023-10-28T07:29:06.706003Z",
     "iopub.status.busy": "2023-10-28T07:29:06.705707Z",
     "iopub.status.idle": "2023-10-28T07:29:06.712115Z",
     "shell.execute_reply": "2023-10-28T07:29:06.711056Z",
     "shell.execute_reply.started": "2023-10-28T07:29:06.705977Z"
    },
    "jupyter": {
     "outputs_hidden": false
    }
   },
   "outputs": [],
   "source": [
    "df_train=pd.concat([df_train, df_test,df_val], axis=0)"
   ]
  },
  {
   "cell_type": "code",
   "execution_count": 76,
   "metadata": {
    "_cell_guid": "d209d1bc-0932-4bd8-9e97-d74aa032199e",
    "_uuid": "b2af80a7-1bba-41eb-80eb-7f19319f2bd0",
    "execution": {
     "iopub.execute_input": "2023-10-28T07:29:06.713880Z",
     "iopub.status.busy": "2023-10-28T07:29:06.713523Z",
     "iopub.status.idle": "2023-10-28T07:29:06.731454Z",
     "shell.execute_reply": "2023-10-28T07:29:06.730378Z",
     "shell.execute_reply.started": "2023-10-28T07:29:06.713852Z"
    },
    "jupyter": {
     "outputs_hidden": false
    }
   },
   "outputs": [],
   "source": [
    "############### PREPARING DATASET ###################\n",
    "X = df_train[['text']]\n",
    "y = df_train[['label']]\n",
    "X_train, X_eval, y_train, y_eval = train_test_split(X, y, test_size=0.1, random_state=42)\n",
    "#Multi Categoryical Transformations\n",
    "y_train = tf.keras.utils.to_categorical(y_train)\n",
    "y_eval = tf.keras.utils.to_categorical(y_eval)"
   ]
  },
  {
   "cell_type": "code",
   "execution_count": 77,
   "metadata": {
    "_cell_guid": "2037404e-79e2-4716-8070-aef2b25677bc",
    "_uuid": "5304fa3a-c4ee-4d54-bc90-f96f0fb53bcb",
    "execution": {
     "iopub.execute_input": "2023-10-28T07:29:06.733297Z",
     "iopub.status.busy": "2023-10-28T07:29:06.732951Z",
     "iopub.status.idle": "2023-10-28T07:29:07.655683Z",
     "shell.execute_reply": "2023-10-28T07:29:07.654802Z",
     "shell.execute_reply.started": "2023-10-28T07:29:06.733262Z"
    },
    "jupyter": {
     "outputs_hidden": false
    }
   },
   "outputs": [],
   "source": [
    "#PREPROCESSING OF DATASET\n",
    "###########################################################################################\n",
    "from nltk.corpus import stopwords\n",
    "stopwords_english = set(stopwords.words('english'))\n",
    "my_stopwords = set([\"http\", \"'s\", \"n't\", \"'m\", \"'re\", \"'ve\"])\n",
    "stopwords_english.update(my_stopwords)\n",
    "\n",
    "def preprocess_review(text):\n",
    "    text = tf.strings.lower(text)\n",
    "    text = tf.strings.regex_replace(text, r'\\d+', '')\n",
    "    text = tf.strings.regex_replace(text, '[^\\w\\s]', '')\n",
    "    \n",
    "    tokens = tf.strings.split(text)\n",
    "    #Different Operations\n",
    "    clean_text = tf.strings.reduce_join(tokens, separator=' ', axis=-1)\n",
    "    \n",
    "    return clean_text\n",
    "###########################################################################\n",
    "\n",
    "#Custom TextVectorization Layer\n",
    "max_len=round(sum([len(i.split()) for i in X['text']])/len(X))\n",
    "vectorize_layer=TextVectorization(\n",
    "    max_tokens=50000,\n",
    "    standardize='lower_and_strip_punctuation',\n",
    "    split='whitespace',\n",
    "    ngrams=None,\n",
    "    output_mode='int',\n",
    "    output_sequence_length=max_len,\n",
    "    pad_to_max_tokens=True\n",
    "    \n",
    ")\n",
    "vectorize_layer.adapt(X)\n",
    "words_vocab=vectorize_layer.get_vocabulary()\n",
    "\n",
    "###############################################################################\n",
    "#Custom Embedding layer\n",
    "embed_layer=layers.Embedding(\n",
    "    input_dim=len(words_vocab),\n",
    "    output_dim=128,\n",
    "    embeddings_initializer='uniform',\n",
    "    input_length=max_len,\n",
    ")\n",
    "\n",
    "################################################################################"
   ]
  },
  {
   "cell_type": "code",
   "execution_count": 78,
   "metadata": {
    "_cell_guid": "e2590f0c-15a5-4b5e-a9bb-5fa409db468f",
    "_uuid": "a9b40c8e-1088-498d-adfd-8a6e55ef49b2",
    "execution": {
     "iopub.execute_input": "2023-10-28T07:29:07.658237Z",
     "iopub.status.busy": "2023-10-28T07:29:07.657929Z",
     "iopub.status.idle": "2023-10-28T07:29:07.669709Z",
     "shell.execute_reply": "2023-10-28T07:29:07.668692Z",
     "shell.execute_reply.started": "2023-10-28T07:29:07.658210Z"
    },
    "jupyter": {
     "outputs_hidden": false
    }
   },
   "outputs": [],
   "source": [
    "###############################################################################################\n",
    "#Custom CallBack and Scheduler\n",
    "early_stopping = tf.keras.callbacks.EarlyStopping(\n",
    "    patience=15,\n",
    "    min_delta=0.001,\n",
    "    restore_best_weights=True,\n",
    ")\n",
    "\n",
    "lr_schedule = tf.keras.optimizers.schedules.InverseTimeDecay(\n",
    "  0.001,\n",
    "  decay_steps=X.shape[0]*20,\n",
    "  decay_rate=1,\n",
    "  staircase=False)\n",
    "\n",
    "\n",
    "##################################################################################\n",
    "# Custom MODEL ASSEMBLING\n",
    "def tf_model(vectorize_layer, embed_layer):\n",
    "    model = Sequential()\n",
    "    \n",
    "    model.add(layers.Input(shape=(1,), dtype=tf.string))\n",
    "    model.add(tf.keras.layers.Lambda(preprocess_review))\n",
    "    model.add(vectorize_layer)\n",
    "    model.add(embed_layer)\n",
    "    \n",
    "    model.add(layers.Conv1D(filters=64, kernel_size=3, activation='relu'))\n",
    "    model.add(layers.MaxPooling1D(pool_size=2))\n",
    "\n",
    "    model.add(layers.Bidirectional(layers.LSTM(units=64, return_sequences=True)))\n",
    "    model.add(layers.BatchNormalization())\n",
    "    model.add(layers.Dropout(0.2))\n",
    "\n",
    "    model.add(layers.Bidirectional(layers.LSTM(units=128)))\n",
    "    model.add(layers.BatchNormalization())\n",
    "    model.add(layers.Dropout(0.2))\n",
    "\n",
    "    model.add(layers.Dense(units=32, activation='relu'))\n",
    "    model.add(layers.BatchNormalization())\n",
    "    model.add(layers.Dropout(0.2))\n",
    "\n",
    "    model.add(layers.Dense(units=6, activation='softmax'))\n",
    "    model.compile(\n",
    "        optimizer=tf.keras.optimizers.Adam(learning_rate=lr_schedule),\n",
    "        loss='categorical_crossentropy',\n",
    "        metrics=['acc']\n",
    "    )\n",
    "\n",
    "    return model"
   ]
  },
  {
   "cell_type": "code",
   "execution_count": 79,
   "metadata": {
    "_cell_guid": "550adac7-af6f-40eb-be40-1dfcfb4fc68a",
    "_uuid": "571e7f08-51fe-4559-bc2a-0698826cc48b",
    "execution": {
     "iopub.execute_input": "2023-10-28T07:29:07.671393Z",
     "iopub.status.busy": "2023-10-28T07:29:07.670994Z",
     "iopub.status.idle": "2023-10-28T07:34:01.898917Z",
     "shell.execute_reply": "2023-10-28T07:34:01.897923Z",
     "shell.execute_reply.started": "2023-10-28T07:29:07.671355Z"
    },
    "jupyter": {
     "outputs_hidden": false
    }
   },
   "outputs": [
    {
     "name": "stdout",
     "output_type": "stream",
     "text": [
      "Epoch 1/30\n",
      "360/360 [==============================] - 28s 53ms/step - loss: 1.2666 - acc: 0.5447 - val_loss: 1.1400 - val_acc: 0.6635\n",
      "Epoch 2/30\n",
      "360/360 [==============================] - 17s 46ms/step - loss: 0.4312 - acc: 0.8536 - val_loss: 0.5487 - val_acc: 0.8110\n",
      "Epoch 3/30\n",
      "360/360 [==============================] - 17s 46ms/step - loss: 0.2442 - acc: 0.9205 - val_loss: 0.5537 - val_acc: 0.8220\n",
      "Epoch 4/30\n",
      "360/360 [==============================] - 16s 46ms/step - loss: 0.1754 - acc: 0.9444 - val_loss: 0.6463 - val_acc: 0.8190\n",
      "Epoch 5/30\n",
      "360/360 [==============================] - 17s 47ms/step - loss: 0.1314 - acc: 0.9583 - val_loss: 0.8722 - val_acc: 0.8020\n",
      "Epoch 6/30\n",
      "360/360 [==============================] - 17s 46ms/step - loss: 0.1158 - acc: 0.9616 - val_loss: 0.7323 - val_acc: 0.8210\n",
      "Epoch 7/30\n",
      "360/360 [==============================] - 17s 48ms/step - loss: 0.0894 - acc: 0.9721 - val_loss: 0.8675 - val_acc: 0.8025\n",
      "Epoch 8/30\n",
      "360/360 [==============================] - 17s 47ms/step - loss: 0.0792 - acc: 0.9742 - val_loss: 0.8914 - val_acc: 0.8035\n",
      "Epoch 9/30\n",
      "360/360 [==============================] - 16s 46ms/step - loss: 0.0717 - acc: 0.9770 - val_loss: 0.8169 - val_acc: 0.8245\n",
      "Epoch 10/30\n",
      "360/360 [==============================] - 17s 46ms/step - loss: 0.0720 - acc: 0.9769 - val_loss: 0.8718 - val_acc: 0.8130\n",
      "Epoch 11/30\n",
      "360/360 [==============================] - 16s 45ms/step - loss: 0.0573 - acc: 0.9813 - val_loss: 0.8584 - val_acc: 0.8320\n",
      "Epoch 12/30\n",
      "360/360 [==============================] - 16s 46ms/step - loss: 0.0525 - acc: 0.9833 - val_loss: 0.9361 - val_acc: 0.8280\n",
      "Epoch 13/30\n",
      "360/360 [==============================] - 16s 45ms/step - loss: 0.0543 - acc: 0.9813 - val_loss: 0.8353 - val_acc: 0.8345\n",
      "Epoch 14/30\n",
      "360/360 [==============================] - 17s 46ms/step - loss: 0.0505 - acc: 0.9835 - val_loss: 0.9062 - val_acc: 0.8320\n",
      "Epoch 15/30\n",
      "360/360 [==============================] - 16s 45ms/step - loss: 0.0435 - acc: 0.9848 - val_loss: 0.9337 - val_acc: 0.8360\n",
      "Epoch 16/30\n",
      "360/360 [==============================] - 17s 46ms/step - loss: 0.0422 - acc: 0.9864 - val_loss: 0.9782 - val_acc: 0.8215\n",
      "Epoch 17/30\n",
      "360/360 [==============================] - 16s 45ms/step - loss: 0.0379 - acc: 0.9874 - val_loss: 0.9399 - val_acc: 0.8345\n"
     ]
    },
    {
     "data": {
      "text/plain": [
       "<keras.callbacks.History at 0x7a628e902110>"
      ]
     },
     "execution_count": 79,
     "metadata": {},
     "output_type": "execute_result"
    }
   ],
   "source": [
    "#Model fitting.\n",
    "model=tf_model(vectorize_layer, embed_layer)\n",
    "model.fit(X_train,y_train,validation_data=[X_eval,y_eval],epochs=30,\n",
    "                callbacks=[early_stopping],batch_size=50)"
   ]
  },
  {
   "cell_type": "code",
   "execution_count": 80,
   "metadata": {
    "_cell_guid": "200a0a38-1e7e-445e-819a-ecbe20d79b63",
    "_uuid": "b5f01f29-e4c6-44d8-9a9a-8b47d3d7153f",
    "execution": {
     "iopub.execute_input": "2023-10-28T07:34:01.900284Z",
     "iopub.status.busy": "2023-10-28T07:34:01.900009Z",
     "iopub.status.idle": "2023-10-28T07:34:41.283064Z",
     "shell.execute_reply": "2023-10-28T07:34:41.281893Z",
     "shell.execute_reply.started": "2023-10-28T07:34:01.900259Z"
    },
    "jupyter": {
     "outputs_hidden": false
    }
   },
   "outputs": [
    {
     "name": "stdout",
     "output_type": "stream",
     "text": [
      "1/1 [==============================] - 2s 2s/step\n"
     ]
    }
   ],
   "source": [
    "Emotions=['sadness','joy','love','anger','fear','Surprise']\n",
    "Scores=model.predict(['I am happy about my life'])"
   ]
  },
  {
   "cell_type": "code",
   "execution_count": 81,
   "metadata": {
    "_cell_guid": "9f457591-b146-4202-b157-6b37a5d7c4c7",
    "_uuid": "5b7e997a-8d96-4026-887a-d0a6c9e92d86",
    "execution": {
     "iopub.execute_input": "2023-10-28T07:34:41.284765Z",
     "iopub.status.busy": "2023-10-28T07:34:41.284464Z",
     "iopub.status.idle": "2023-10-28T07:34:41.372725Z",
     "shell.execute_reply": "2023-10-28T07:34:41.371753Z",
     "shell.execute_reply.started": "2023-10-28T07:34:41.284738Z"
    },
    "jupyter": {
     "outputs_hidden": false
    }
   },
   "outputs": [
    {
     "name": "stdout",
     "output_type": "stream",
     "text": [
      "1/1 [==============================] - 0s 36ms/step\n"
     ]
    },
    {
     "data": {
      "text/plain": [
       "[['joy', 'love']]"
      ]
     },
     "execution_count": 81,
     "metadata": {},
     "output_type": "execute_result"
    }
   ],
   "source": [
    "Result=np.argpartition(-model.predict(['I am happy about my life']), kth=2, axis=1)[:, :2]\n",
    "[[map_emotion(value) for value in row] for row in Result]"
   ]
  },
  {
   "cell_type": "code",
   "execution_count": 82,
   "metadata": {
    "_cell_guid": "13bbe392-173c-4ac3-aa1f-d2b009450a4d",
    "_uuid": "65944996-d6d8-4804-b98d-74b87d673cea",
    "execution": {
     "iopub.execute_input": "2023-10-28T07:34:41.374191Z",
     "iopub.status.busy": "2023-10-28T07:34:41.373921Z",
     "iopub.status.idle": "2023-10-28T07:34:46.379820Z",
     "shell.execute_reply": "2023-10-28T07:34:46.378736Z",
     "shell.execute_reply.started": "2023-10-28T07:34:41.374168Z"
    },
    "jupyter": {
     "outputs_hidden": false
    }
   },
   "outputs": [],
   "source": [
    "#Saving and loading models...........\n",
    "import pickle\n",
    "with open('model_pickle','wb') as f:\n",
    "    pickle.dump(model,f)\n",
    "with open('model_pickle','rb') as f:\n",
    "    model_pkl=pickle.load(f)"
   ]
  },
  {
   "cell_type": "code",
   "execution_count": 83,
   "metadata": {
    "execution": {
     "iopub.execute_input": "2023-10-28T07:34:46.381447Z",
     "iopub.status.busy": "2023-10-28T07:34:46.381115Z",
     "iopub.status.idle": "2023-10-28T07:35:12.309235Z",
     "shell.execute_reply": "2023-10-28T07:35:12.308351Z",
     "shell.execute_reply.started": "2023-10-28T07:34:46.381418Z"
    }
   },
   "outputs": [],
   "source": [
    "#Saving in tensorflow\n",
    "model.save('model.tf')"
   ]
  },
  {
   "cell_type": "code",
   "execution_count": 84,
   "metadata": {
    "execution": {
     "iopub.execute_input": "2023-10-28T07:35:12.313708Z",
     "iopub.status.busy": "2023-10-28T07:35:12.313287Z",
     "iopub.status.idle": "2023-10-28T07:35:12.681065Z",
     "shell.execute_reply": "2023-10-28T07:35:12.680012Z",
     "shell.execute_reply.started": "2023-10-28T07:35:12.313681Z"
    }
   },
   "outputs": [
    {
     "data": {
      "text/plain": [
       "['model_job.pkl']"
      ]
     },
     "execution_count": 84,
     "metadata": {},
     "output_type": "execute_result"
    }
   ],
   "source": [
    "#Saving using joblib\n",
    "import joblib\n",
    "joblib.dump(model,'model_job.pkl')"
   ]
  },
  {
   "cell_type": "code",
   "execution_count": 85,
   "metadata": {
    "execution": {
     "iopub.execute_input": "2023-10-28T07:35:12.684027Z",
     "iopub.status.busy": "2023-10-28T07:35:12.682839Z",
     "iopub.status.idle": "2023-10-28T07:35:14.471788Z",
     "shell.execute_reply": "2023-10-28T07:35:14.470828Z",
     "shell.execute_reply.started": "2023-10-28T07:35:12.683989Z"
    }
   },
   "outputs": [
    {
     "name": "stdout",
     "output_type": "stream",
     "text": [
      "1/1 [==============================] - 2s 2s/step\n"
     ]
    }
   ],
   "source": [
    "Scores=model_pkl.predict(['I am happy about my life'])\n",
    "Card={}\n",
    "for score,emotion in zip(Scores[0],Emotions):\n",
    "    Card[emotion]=str(score)\n",
    "with open('card.json','w') as file:\n",
    "    data=Card\n",
    "    json.dump(data,file)"
   ]
  }
 ],
 "metadata": {
  "kernelspec": {
   "display_name": "tf",
   "language": "python",
   "name": "tf"
  },
  "language_info": {
   "codemirror_mode": {
    "name": "ipython",
    "version": 3
   },
   "file_extension": ".py",
   "mimetype": "text/x-python",
   "name": "python",
   "nbconvert_exporter": "python",
   "pygments_lexer": "ipython3",
   "version": "3.9.16"
  }
 },
 "nbformat": 4,
 "nbformat_minor": 4
}
