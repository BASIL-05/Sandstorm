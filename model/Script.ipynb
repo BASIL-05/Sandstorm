{
 "cells": [
  {
   "cell_type": "code",
   "execution_count": 7,
   "id": "a3fc9acc",
   "metadata": {},
   "outputs": [],
   "source": [
    "from keras.models import load_model\n",
    "import json\n",
    "model_final = load_model('model.tf')"
   ]
  },
  {
   "cell_type": "code",
   "execution_count": 8,
   "id": "b65add3c",
   "metadata": {
    "scrolled": true
   },
   "outputs": [
    {
     "name": "stdout",
     "output_type": "stream",
     "text": [
      "1/1 [==============================] - 3s 3s/step\n"
     ]
    },
    {
     "data": {
      "text/plain": [
       "array([[0.15813379, 0.08600063, 0.02294948, 0.12235961, 0.5717704 ,\n",
       "        0.038786  ]], dtype=float32)"
      ]
     },
     "execution_count": 8,
     "metadata": {},
     "output_type": "execute_result"
    }
   ],
   "source": [
    "model_final.predict(['I am happy about my life'])"
   ]
  },
  {
   "cell_type": "code",
   "execution_count": 9,
   "id": "b183ea91",
   "metadata": {},
   "outputs": [
    {
     "name": "stdout",
     "output_type": "stream",
     "text": [
      "1/1 [==============================] - 0s 90ms/step\n"
     ]
    }
   ],
   "source": [
    "Emotions=['sadness','joy','love','anger','fear','Surprise']\n",
    "Scores=model_final.predict(['I am happy about my life'])\n",
    "Card={}\n",
    "for score,emotion in zip(Scores[0],Emotions):\n",
    "    Card[emotion]=str(score)\n",
    "with open('card.json','w') as file:\n",
    "    data=Card\n",
    "    json.dump(data,file)"
   ]
  }
 ],
 "metadata": {
  "kernelspec": {
   "display_name": "tf",
   "language": "python",
   "name": "tf"
  },
  "language_info": {
   "codemirror_mode": {
    "name": "ipython",
    "version": 3
   },
   "file_extension": ".py",
   "mimetype": "text/x-python",
   "name": "python",
   "nbconvert_exporter": "python",
   "pygments_lexer": "ipython3",
   "version": "3.9.16"
  }
 },
 "nbformat": 4,
 "nbformat_minor": 5
}
