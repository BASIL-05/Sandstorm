{
 "cells": [
  {
   "cell_type": "code",
   "execution_count": 3,
   "metadata": {
    "_cell_guid": "5331a2b4-cd98-4a5a-9955-3985e3057838",
    "_uuid": "a6173bf0-e4d6-4e7b-a300-a2b2c6a434de",
    "execution": {
     "iopub.execute_input": "2023-10-28T07:29:06.581965Z",
     "iopub.status.busy": "2023-10-28T07:29:06.581415Z",
     "iopub.status.idle": "2023-10-28T07:29:06.590188Z",
     "shell.execute_reply": "2023-10-28T07:29:06.589090Z",
     "shell.execute_reply.started": "2023-10-28T07:29:06.581930Z"
    },
    "jupyter": {
     "outputs_hidden": false
    }
   },
   "outputs": [],
   "source": [
    "############################################### IMPORTS ####################################\n",
    "############ ALGEBRA #################\n",
    "import numpy as np  # linear algebra\n",
    "import pandas as pd  # data processing\n",
    "import os\n",
    "import json\n",
    "\n",
    "############### SKLEARN ###############\n",
    "from sklearn.model_selection import train_test_split \n",
    "\n",
    "############## TENSORFLOW ############\n",
    "import tensorflow as tf\n",
    "from tensorflow import keras\n",
    "from tensorflow.keras import regularizers,layers\n",
    "from tensorflow.keras.models import Sequential\n",
    "from tensorflow.keras.layers import TextVectorization,Conv1D, MaxPooling1D, LSTM, Bidirectional, Dense, BatchNormalization, Dropout"
   ]
  },
  {
   "cell_type": "code",
   "execution_count": 4,
   "metadata": {
    "execution": {
     "iopub.execute_input": "2023-10-28T07:29:06.593339Z",
     "iopub.status.busy": "2023-10-28T07:29:06.592678Z",
     "iopub.status.idle": "2023-10-28T07:29:06.606641Z",
     "shell.execute_reply": "2023-10-28T07:29:06.605625Z",
     "shell.execute_reply.started": "2023-10-28T07:29:06.593277Z"
    }
   },
   "outputs": [
    {
     "data": {
      "text/plain": [
       "'2.10.1'"
      ]
     },
     "execution_count": 4,
     "metadata": {},
     "output_type": "execute_result"
    }
   ],
   "source": [
    "tf.__version__"
   ]
  },
  {
   "cell_type": "code",
   "execution_count": 5,
   "metadata": {
    "_cell_guid": "8f26445c-41b7-4808-bf74-605069701f7f",
    "_uuid": "011c3f5a-502e-40a3-b200-94f7f90a6a12",
    "execution": {
     "iopub.execute_input": "2023-10-28T07:29:06.608967Z",
     "iopub.status.busy": "2023-10-28T07:29:06.608304Z",
     "iopub.status.idle": "2023-10-28T07:29:06.617269Z",
     "shell.execute_reply": "2023-10-28T07:29:06.616354Z",
     "shell.execute_reply.started": "2023-10-28T07:29:06.608936Z"
    },
    "jupyter": {
     "outputs_hidden": false
    }
   },
   "outputs": [],
   "source": [
    "def map_emotion(value):\n",
    "    if value == 0:\n",
    "        return 'sadness'\n",
    "    elif value == 1:\n",
    "        return 'joy'\n",
    "    elif value == 2:\n",
    "        return 'love'\n",
    "    elif value == 3:\n",
    "        return 'anger'\n",
    "    elif value == 4:\n",
    "        return 'fear'\n",
    "    else:\n",
    "        return 'Surprise'"
   ]
  },
  {
   "cell_type": "code",
   "execution_count": 7,
   "metadata": {
    "_cell_guid": "a0a88995-ed40-407d-8eb6-333a703d9e2b",
    "_uuid": "21857770-dcaa-4636-a395-2438fa157af5",
    "execution": {
     "iopub.execute_input": "2023-10-28T07:29:06.619413Z",
     "iopub.status.busy": "2023-10-28T07:29:06.619101Z",
     "iopub.status.idle": "2023-10-28T07:29:06.703185Z",
     "shell.execute_reply": "2023-10-28T07:29:06.702348Z",
     "shell.execute_reply.started": "2023-10-28T07:29:06.619379Z"
    },
    "jupyter": {
     "outputs_hidden": false
    }
   },
   "outputs": [],
   "source": [
    "######## DATA ############\n",
    "FILE_PATH='emotion-dataset'\n",
    "df_train=pd.read_csv(os.path.join(FILE_PATH,'training.csv'))#Train dataset\n",
    "df_test=pd.read_csv(os.path.join(FILE_PATH,'test.csv')) #Test dataset\n",
    "df_val=pd.read_csv(os.path.join(FILE_PATH,'validation.csv'))#Validation dataset."
   ]
  },
  {
   "cell_type": "code",
   "execution_count": 8,
   "metadata": {
    "_cell_guid": "699814c4-2589-47cc-acef-bb263e3f65d1",
    "_uuid": "d083df7f-8dcd-4ccd-921f-a0981123541a",
    "execution": {
     "iopub.execute_input": "2023-10-28T07:29:06.706003Z",
     "iopub.status.busy": "2023-10-28T07:29:06.705707Z",
     "iopub.status.idle": "2023-10-28T07:29:06.712115Z",
     "shell.execute_reply": "2023-10-28T07:29:06.711056Z",
     "shell.execute_reply.started": "2023-10-28T07:29:06.705977Z"
    },
    "jupyter": {
     "outputs_hidden": false
    }
   },
   "outputs": [],
   "source": [
    "df_train=pd.concat([df_train, df_test,df_val], axis=0)"
   ]
  },
  {
   "cell_type": "code",
   "execution_count": 9,
   "metadata": {
    "_cell_guid": "d209d1bc-0932-4bd8-9e97-d74aa032199e",
    "_uuid": "b2af80a7-1bba-41eb-80eb-7f19319f2bd0",
    "execution": {
     "iopub.execute_input": "2023-10-28T07:29:06.713880Z",
     "iopub.status.busy": "2023-10-28T07:29:06.713523Z",
     "iopub.status.idle": "2023-10-28T07:29:06.731454Z",
     "shell.execute_reply": "2023-10-28T07:29:06.730378Z",
     "shell.execute_reply.started": "2023-10-28T07:29:06.713852Z"
    },
    "jupyter": {
     "outputs_hidden": false
    }
   },
   "outputs": [],
   "source": [
    "############### PREPARING DATASET ###################\n",
    "X = df_train[['text']]\n",
    "y = df_train[['label']]\n",
    "X_train, X_eval, y_train, y_eval = train_test_split(X, y, test_size=0.1, random_state=42)\n",
    "#Multi Categoryical Transformations\n",
    "y_train = tf.keras.utils.to_categorical(y_train)\n",
    "y_eval = tf.keras.utils.to_categorical(y_eval)"
   ]
  },
  {
   "cell_type": "code",
   "execution_count": 10,
   "metadata": {
    "_cell_guid": "2037404e-79e2-4716-8070-aef2b25677bc",
    "_uuid": "5304fa3a-c4ee-4d54-bc90-f96f0fb53bcb",
    "execution": {
     "iopub.execute_input": "2023-10-28T07:29:06.733297Z",
     "iopub.status.busy": "2023-10-28T07:29:06.732951Z",
     "iopub.status.idle": "2023-10-28T07:29:07.655683Z",
     "shell.execute_reply": "2023-10-28T07:29:07.654802Z",
     "shell.execute_reply.started": "2023-10-28T07:29:06.733262Z"
    },
    "jupyter": {
     "outputs_hidden": false
    }
   },
   "outputs": [],
   "source": [
    "#PREPROCESSING OF DATASET\n",
    "###########################################################################################\n",
    "from nltk.corpus import stopwords\n",
    "stopwords_english = set(stopwords.words('english'))\n",
    "my_stopwords = set([\"http\", \"'s\", \"n't\", \"'m\", \"'re\", \"'ve\"])\n",
    "stopwords_english.update(my_stopwords)\n",
    "\n",
    "def preprocess_review(text):\n",
    "    text = tf.strings.lower(text)\n",
    "    text = tf.strings.regex_replace(text, r'\\d+', '')\n",
    "    text = tf.strings.regex_replace(text, '[^\\w\\s]', '')\n",
    "    \n",
    "    tokens = tf.strings.split(text)\n",
    "    #Different Operations\n",
    "    clean_text = tf.strings.reduce_join(tokens, separator=' ', axis=-1)\n",
    "    \n",
    "    return clean_text\n",
    "###########################################################################\n",
    "\n",
    "#Custom TextVectorization Layer\n",
    "max_len=round(sum([len(i.split()) for i in X['text']])/len(X))\n",
    "vectorize_layer=TextVectorization(\n",
    "    max_tokens=50000,\n",
    "    standardize='lower_and_strip_punctuation',\n",
    "    split='whitespace',\n",
    "    ngrams=None,\n",
    "    output_mode='int',\n",
    "    output_sequence_length=max_len,\n",
    "    pad_to_max_tokens=True\n",
    "    \n",
    ")\n",
    "vectorize_layer.adapt(X)\n",
    "words_vocab=vectorize_layer.get_vocabulary()\n",
    "\n",
    "###############################################################################\n",
    "#Custom Embedding layer\n",
    "embed_layer=layers.Embedding(\n",
    "    input_dim=len(words_vocab),\n",
    "    output_dim=128,\n",
    "    embeddings_initializer='uniform',\n",
    "    input_length=max_len,\n",
    ")\n",
    "\n",
    "################################################################################"
   ]
  },
  {
   "cell_type": "code",
   "execution_count": 11,
   "metadata": {
    "_cell_guid": "e2590f0c-15a5-4b5e-a9bb-5fa409db468f",
    "_uuid": "a9b40c8e-1088-498d-adfd-8a6e55ef49b2",
    "execution": {
     "iopub.execute_input": "2023-10-28T07:29:07.658237Z",
     "iopub.status.busy": "2023-10-28T07:29:07.657929Z",
     "iopub.status.idle": "2023-10-28T07:29:07.669709Z",
     "shell.execute_reply": "2023-10-28T07:29:07.668692Z",
     "shell.execute_reply.started": "2023-10-28T07:29:07.658210Z"
    },
    "jupyter": {
     "outputs_hidden": false
    }
   },
   "outputs": [],
   "source": [
    "###############################################################################################\n",
    "#Custom CallBack and Scheduler\n",
    "early_stopping = tf.keras.callbacks.EarlyStopping(\n",
    "    patience=15,\n",
    "    min_delta=0.001,\n",
    "    restore_best_weights=True,\n",
    ")\n",
    "\n",
    "lr_schedule = tf.keras.optimizers.schedules.InverseTimeDecay(\n",
    "  0.001,\n",
    "  decay_steps=X.shape[0]*20,\n",
    "  decay_rate=1,\n",
    "  staircase=False)\n",
    "\n",
    "\n",
    "##################################################################################\n",
    "# Custom MODEL ASSEMBLING\n",
    "def tf_model(vectorize_layer, embed_layer):\n",
    "    model = Sequential()\n",
    "    \n",
    "    model.add(layers.Input(shape=(1,), dtype=tf.string))\n",
    "    model.add(tf.keras.layers.Lambda(preprocess_review))\n",
    "    model.add(vectorize_layer)\n",
    "    model.add(embed_layer)\n",
    "    \n",
    "    model.add(layers.Conv1D(filters=64, kernel_size=3, activation='relu'))\n",
    "    model.add(layers.MaxPooling1D(pool_size=2))\n",
    "\n",
    "    model.add(layers.Bidirectional(layers.LSTM(units=64, return_sequences=True)))\n",
    "    model.add(layers.BatchNormalization())\n",
    "    model.add(layers.Dropout(0.2))\n",
    "\n",
    "    model.add(layers.Bidirectional(layers.LSTM(units=128)))\n",
    "    model.add(layers.BatchNormalization())\n",
    "    model.add(layers.Dropout(0.2))\n",
    "\n",
    "    model.add(layers.Dense(units=32, activation='relu'))\n",
    "    model.add(layers.BatchNormalization())\n",
    "    model.add(layers.Dropout(0.2))\n",
    "\n",
    "    model.add(layers.Dense(units=6, activation='softmax'))\n",
    "    model.compile(\n",
    "        optimizer=tf.keras.optimizers.Adam(learning_rate=lr_schedule),\n",
    "        loss='categorical_crossentropy',\n",
    "        metrics=['acc']\n",
    "    )\n",
    "\n",
    "    return model"
   ]
  },
  {
   "cell_type": "code",
   "execution_count": 12,
   "metadata": {
    "_cell_guid": "550adac7-af6f-40eb-be40-1dfcfb4fc68a",
    "_uuid": "571e7f08-51fe-4559-bc2a-0698826cc48b",
    "execution": {
     "iopub.execute_input": "2023-10-28T07:29:07.671393Z",
     "iopub.status.busy": "2023-10-28T07:29:07.670994Z",
     "iopub.status.idle": "2023-10-28T07:34:01.898917Z",
     "shell.execute_reply": "2023-10-28T07:34:01.897923Z",
     "shell.execute_reply.started": "2023-10-28T07:29:07.671355Z"
    },
    "jupyter": {
     "outputs_hidden": false
    }
   },
   "outputs": [
    {
     "name": "stdout",
     "output_type": "stream",
     "text": [
      "Epoch 1/30\n",
      "360/360 [==============================] - 76s 176ms/step - loss: 1.2099 - acc: 0.5591 - val_loss: 1.1261 - val_acc: 0.6660\n",
      "Epoch 2/30\n",
      "360/360 [==============================] - 64s 179ms/step - loss: 0.4214 - acc: 0.8579 - val_loss: 0.5003 - val_acc: 0.8270\n",
      "Epoch 3/30\n",
      "360/360 [==============================] - 53s 146ms/step - loss: 0.2513 - acc: 0.9186 - val_loss: 0.5340 - val_acc: 0.8185\n",
      "Epoch 4/30\n",
      "360/360 [==============================] - 59s 163ms/step - loss: 0.1640 - acc: 0.9484 - val_loss: 0.7851 - val_acc: 0.7830\n",
      "Epoch 5/30\n",
      "360/360 [==============================] - 43s 119ms/step - loss: 0.1339 - acc: 0.9581 - val_loss: 0.7394 - val_acc: 0.8100\n",
      "Epoch 6/30\n",
      "360/360 [==============================] - 60s 166ms/step - loss: 0.1011 - acc: 0.9681 - val_loss: 0.7962 - val_acc: 0.8130\n",
      "Epoch 7/30\n",
      "360/360 [==============================] - 60s 167ms/step - loss: 0.0912 - acc: 0.9712 - val_loss: 0.7248 - val_acc: 0.8250\n",
      "Epoch 8/30\n",
      "360/360 [==============================] - 50s 139ms/step - loss: 0.0876 - acc: 0.9723 - val_loss: 0.7464 - val_acc: 0.8240\n",
      "Epoch 9/30\n",
      "360/360 [==============================] - 56s 157ms/step - loss: 0.0755 - acc: 0.9760 - val_loss: 0.8017 - val_acc: 0.8215\n",
      "Epoch 10/30\n",
      "360/360 [==============================] - 62s 172ms/step - loss: 0.0649 - acc: 0.9786 - val_loss: 0.8710 - val_acc: 0.8300\n",
      "Epoch 11/30\n",
      "360/360 [==============================] - 61s 170ms/step - loss: 0.0558 - acc: 0.9831 - val_loss: 0.8854 - val_acc: 0.8230\n",
      "Epoch 12/30\n",
      "360/360 [==============================] - 57s 157ms/step - loss: 0.0549 - acc: 0.9829 - val_loss: 0.8634 - val_acc: 0.8250\n",
      "Epoch 13/30\n",
      "360/360 [==============================] - 53s 148ms/step - loss: 0.0563 - acc: 0.9818 - val_loss: 0.9031 - val_acc: 0.8230\n",
      "Epoch 14/30\n",
      "360/360 [==============================] - 50s 140ms/step - loss: 0.0453 - acc: 0.9854 - val_loss: 0.9130 - val_acc: 0.8310\n",
      "Epoch 15/30\n",
      "360/360 [==============================] - 55s 153ms/step - loss: 0.0581 - acc: 0.9821 - val_loss: 0.8807 - val_acc: 0.8260\n",
      "Epoch 16/30\n",
      "360/360 [==============================] - 50s 138ms/step - loss: 0.0454 - acc: 0.9858 - val_loss: 0.8650 - val_acc: 0.8350\n",
      "Epoch 17/30\n",
      "360/360 [==============================] - 39s 107ms/step - loss: 0.0362 - acc: 0.9886 - val_loss: 0.9234 - val_acc: 0.8355\n"
     ]
    },
    {
     "data": {
      "text/plain": [
       "<keras.callbacks.History at 0x2286935ef40>"
      ]
     },
     "execution_count": 12,
     "metadata": {},
     "output_type": "execute_result"
    }
   ],
   "source": [
    "#Model fitting.\n",
    "model=tf_model(vectorize_layer, embed_layer)\n",
    "model.fit(X_train,y_train,validation_data=[X_eval,y_eval],epochs=3,\n",
    "                callbacks=[early_stopping],batch_size=50)"
   ]
  },
  {
   "cell_type": "code",
   "execution_count": 14,
   "metadata": {
    "_cell_guid": "9f457591-b146-4202-b157-6b37a5d7c4c7",
    "_uuid": "5b7e997a-8d96-4026-887a-d0a6c9e92d86",
    "execution": {
     "iopub.execute_input": "2023-10-28T07:34:41.284765Z",
     "iopub.status.busy": "2023-10-28T07:34:41.284464Z",
     "iopub.status.idle": "2023-10-28T07:34:41.372725Z",
     "shell.execute_reply": "2023-10-28T07:34:41.371753Z",
     "shell.execute_reply.started": "2023-10-28T07:34:41.284738Z"
    },
    "jupyter": {
     "outputs_hidden": false
    }
   },
   "outputs": [
    {
     "name": "stdout",
     "output_type": "stream",
     "text": [
      "1/1 [==============================] - 3s 3s/step\n"
     ]
    },
    {
     "data": {
      "text/plain": [
       "[['joy', 'fear']]"
      ]
     },
     "execution_count": 14,
     "metadata": {},
     "output_type": "execute_result"
    }
   ],
   "source": [
    "Result=np.argpartition(-model.predict(['I am happy about my life']), kth=2, axis=1)[:, :2]\n",
    "[[map_emotion(value) for value in row] for row in Result]"
   ]
  },
  {
   "cell_type": "code",
   "execution_count": 19,
   "metadata": {
    "scrolled": true
   },
   "outputs": [
    {
     "name": "stderr",
     "output_type": "stream",
     "text": [
      "WARNING:absl:Found untraced functions such as _jit_compiled_convolution_op, lstm_cell_1_layer_call_fn, lstm_cell_1_layer_call_and_return_conditional_losses, lstm_cell_2_layer_call_fn, lstm_cell_2_layer_call_and_return_conditional_losses while saving (showing 5 of 9). These functions will not be directly callable after loading.\n"
     ]
    },
    {
     "name": "stdout",
     "output_type": "stream",
     "text": [
      "INFO:tensorflow:Assets written to: model.tf\\assets\n"
     ]
    },
    {
     "name": "stderr",
     "output_type": "stream",
     "text": [
      "INFO:tensorflow:Assets written to: model.tf\\assets\n"
     ]
    }
   ],
   "source": [
    "from keras.models import load_model\n",
    "model.save('model.tf')"
   ]
  }
 ],
 "metadata": {
  "kernelspec": {
   "display_name": "tf",
   "language": "python",
   "name": "tf"
  },
  "language_info": {
   "codemirror_mode": {
    "name": "ipython",
    "version": 3
   },
   "file_extension": ".py",
   "mimetype": "text/x-python",
   "name": "python",
   "nbconvert_exporter": "python",
   "pygments_lexer": "ipython3",
   "version": "3.9.16"
  }
 },
 "nbformat": 4,
 "nbformat_minor": 4
}
