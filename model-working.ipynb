{
 "cells": [
  {
   "cell_type": "code",
   "execution_count": 1,
   "id": "8b1c5530",
   "metadata": {
    "_cell_guid": "5331a2b4-cd98-4a5a-9955-3985e3057838",
    "_uuid": "a6173bf0-e4d6-4e7b-a300-a2b2c6a434de",
    "collapsed": false,
    "execution": {
     "iopub.execute_input": "2023-10-28T07:32:14.025496Z",
     "iopub.status.busy": "2023-10-28T07:32:14.024723Z",
     "iopub.status.idle": "2023-10-28T07:32:25.870425Z",
     "shell.execute_reply": "2023-10-28T07:32:25.869334Z"
    },
    "jupyter": {
     "outputs_hidden": false
    },
    "papermill": {
     "duration": 11.857404,
     "end_time": "2023-10-28T07:32:25.873859",
     "exception": false,
     "start_time": "2023-10-28T07:32:14.016455",
     "status": "completed"
    },
    "tags": []
   },
   "outputs": [],
   "source": [
    "############################################### IMPORTS ####################################\n",
    "############ ALGEBRA #################\n",
    "import numpy as np  # linear algebra\n",
    "import pandas as pd  # data processing\n",
    "import os\n",
    "import json\n",
    "\n",
    "############### SKLEARN ###############\n",
    "from sklearn.model_selection import train_test_split \n",
    "from sklearn.decomposition import PCA\n",
    "\n",
    "############## TENSORFLOW ############\n",
    "import tensorflow as tf\n",
    "from tensorflow import keras\n",
    "from tensorflow.keras import regularizers,layers\n",
    "from tensorflow.keras.models import Sequential\n",
    "from tensorflow.keras.layers import TextVectorization,Conv1D, MaxPooling1D, LSTM, Bidirectional, Dense, BatchNormalization, Dropout"
   ]
  },
  {
   "cell_type": "code",
   "execution_count": 2,
   "id": "a55884b4",
   "metadata": {
    "execution": {
     "iopub.execute_input": "2023-10-28T07:32:25.890772Z",
     "iopub.status.busy": "2023-10-28T07:32:25.890060Z",
     "iopub.status.idle": "2023-10-28T07:32:25.899397Z",
     "shell.execute_reply": "2023-10-28T07:32:25.897664Z"
    },
    "papermill": {
     "duration": 0.021264,
     "end_time": "2023-10-28T07:32:25.903587",
     "exception": false,
     "start_time": "2023-10-28T07:32:25.882323",
     "status": "completed"
    },
    "tags": []
   },
   "outputs": [
    {
     "data": {
      "text/plain": [
       "'2.12.0'"
      ]
     },
     "execution_count": 2,
     "metadata": {},
     "output_type": "execute_result"
    }
   ],
   "source": [
    "tf.__version__"
   ]
  },
  {
   "cell_type": "code",
   "execution_count": 3,
   "id": "74a7a01a",
   "metadata": {
    "_cell_guid": "8f26445c-41b7-4808-bf74-605069701f7f",
    "_uuid": "011c3f5a-502e-40a3-b200-94f7f90a6a12",
    "collapsed": false,
    "execution": {
     "iopub.execute_input": "2023-10-28T07:32:25.920459Z",
     "iopub.status.busy": "2023-10-28T07:32:25.919207Z",
     "iopub.status.idle": "2023-10-28T07:32:25.925719Z",
     "shell.execute_reply": "2023-10-28T07:32:25.924765Z"
    },
    "jupyter": {
     "outputs_hidden": false
    },
    "papermill": {
     "duration": 0.017448,
     "end_time": "2023-10-28T07:32:25.928313",
     "exception": false,
     "start_time": "2023-10-28T07:32:25.910865",
     "status": "completed"
    },
    "tags": []
   },
   "outputs": [],
   "source": [
    "def map_emotion(value):\n",
    "    if value == 0:\n",
    "        return 'sadness'\n",
    "    elif value == 1:\n",
    "        return 'joy'\n",
    "    elif value == 2:\n",
    "        return 'love'\n",
    "    elif value == 3:\n",
    "        return 'anger'\n",
    "    elif value == 4:\n",
    "        return 'fear'\n",
    "    else:\n",
    "        return 'Surprise'"
   ]
  },
  {
   "cell_type": "code",
   "execution_count": 4,
   "id": "da8ce00b",
   "metadata": {
    "_cell_guid": "a0a88995-ed40-407d-8eb6-333a703d9e2b",
    "_uuid": "21857770-dcaa-4636-a395-2438fa157af5",
    "collapsed": false,
    "execution": {
     "iopub.execute_input": "2023-10-28T07:32:25.943801Z",
     "iopub.status.busy": "2023-10-28T07:32:25.942478Z",
     "iopub.status.idle": "2023-10-28T07:32:26.046653Z",
     "shell.execute_reply": "2023-10-28T07:32:26.045556Z"
    },
    "jupyter": {
     "outputs_hidden": false
    },
    "papermill": {
     "duration": 0.114863,
     "end_time": "2023-10-28T07:32:26.049521",
     "exception": false,
     "start_time": "2023-10-28T07:32:25.934658",
     "status": "completed"
    },
    "tags": []
   },
   "outputs": [],
   "source": [
    "######## DATA ############\n",
    "FILE_PATH='/kaggle/input/emotion-dataset'\n",
    "df_train=pd.read_csv(os.path.join(FILE_PATH,'training.csv'))#Train dataset\n",
    "df_test=pd.read_csv(os.path.join(FILE_PATH,'test.csv')) #Test dataset\n",
    "df_val=pd.read_csv(os.path.join(FILE_PATH,'validation.csv'))#Validation dataset."
   ]
  },
  {
   "cell_type": "code",
   "execution_count": 5,
   "id": "206a95c0",
   "metadata": {
    "_cell_guid": "699814c4-2589-47cc-acef-bb263e3f65d1",
    "_uuid": "d083df7f-8dcd-4ccd-921f-a0981123541a",
    "collapsed": false,
    "execution": {
     "iopub.execute_input": "2023-10-28T07:32:26.064114Z",
     "iopub.status.busy": "2023-10-28T07:32:26.063717Z",
     "iopub.status.idle": "2023-10-28T07:32:26.073126Z",
     "shell.execute_reply": "2023-10-28T07:32:26.072283Z"
    },
    "jupyter": {
     "outputs_hidden": false
    },
    "papermill": {
     "duration": 0.0195,
     "end_time": "2023-10-28T07:32:26.075379",
     "exception": false,
     "start_time": "2023-10-28T07:32:26.055879",
     "status": "completed"
    },
    "tags": []
   },
   "outputs": [],
   "source": [
    "df_train=pd.concat([df_train, df_test,df_val], axis=0)"
   ]
  },
  {
   "cell_type": "code",
   "execution_count": 6,
   "id": "755d247a",
   "metadata": {
    "_cell_guid": "d209d1bc-0932-4bd8-9e97-d74aa032199e",
    "_uuid": "b2af80a7-1bba-41eb-80eb-7f19319f2bd0",
    "collapsed": false,
    "execution": {
     "iopub.execute_input": "2023-10-28T07:32:26.090465Z",
     "iopub.status.busy": "2023-10-28T07:32:26.089406Z",
     "iopub.status.idle": "2023-10-28T07:32:26.120590Z",
     "shell.execute_reply": "2023-10-28T07:32:26.119358Z"
    },
    "jupyter": {
     "outputs_hidden": false
    },
    "papermill": {
     "duration": 0.041672,
     "end_time": "2023-10-28T07:32:26.123331",
     "exception": false,
     "start_time": "2023-10-28T07:32:26.081659",
     "status": "completed"
    },
    "tags": []
   },
   "outputs": [],
   "source": [
    "############### PREPARING DATASET ###################\n",
    "X = df_train[['text']]\n",
    "y = df_train[['label']]\n",
    "X_train, X_eval, y_train, y_eval = train_test_split(X, y, test_size=0.1, random_state=42)\n",
    "#Multi Categoryical Transformations\n",
    "y_train = tf.keras.utils.to_categorical(y_train)\n",
    "y_eval = tf.keras.utils.to_categorical(y_eval)"
   ]
  },
  {
   "cell_type": "code",
   "execution_count": 7,
   "id": "a942c535",
   "metadata": {
    "_cell_guid": "2037404e-79e2-4716-8070-aef2b25677bc",
    "_uuid": "5304fa3a-c4ee-4d54-bc90-f96f0fb53bcb",
    "collapsed": false,
    "execution": {
     "iopub.execute_input": "2023-10-28T07:32:26.138225Z",
     "iopub.status.busy": "2023-10-28T07:32:26.137841Z",
     "iopub.status.idle": "2023-10-28T07:32:28.340840Z",
     "shell.execute_reply": "2023-10-28T07:32:28.339534Z"
    },
    "jupyter": {
     "outputs_hidden": false
    },
    "papermill": {
     "duration": 2.21404,
     "end_time": "2023-10-28T07:32:28.343775",
     "exception": false,
     "start_time": "2023-10-28T07:32:26.129735",
     "status": "completed"
    },
    "tags": []
   },
   "outputs": [],
   "source": [
    "#PREPROCESSING OF DATASET\n",
    "###########################################################################################\n",
    "from nltk.corpus import stopwords\n",
    "stopwords_english = set(stopwords.words('english'))\n",
    "my_stopwords = set([\"http\", \"'s\", \"n't\", \"'m\", \"'re\", \"'ve\"])\n",
    "stopwords_english.update(my_stopwords)\n",
    "\n",
    "def preprocess_review(text):\n",
    "    text = tf.strings.lower(text)\n",
    "    text = tf.strings.regex_replace(text, r'\\d+', '')\n",
    "    text = tf.strings.regex_replace(text, '[^\\w\\s]', '')\n",
    "    \n",
    "    tokens = tf.strings.split(text)\n",
    "    #Different Operations\n",
    "    clean_text = tf.strings.reduce_join(tokens, separator=' ', axis=-1)\n",
    "    \n",
    "    return clean_text\n",
    "###########################################################################\n",
    "\n",
    "#Custom TextVectorization Layer\n",
    "max_len=round(sum([len(i.split()) for i in X['text']])/len(X))\n",
    "vectorize_layer=TextVectorization(\n",
    "    max_tokens=50000,\n",
    "    standardize='lower_and_strip_punctuation',\n",
    "    split='whitespace',\n",
    "    ngrams=None,\n",
    "    output_mode='int',\n",
    "    output_sequence_length=max_len,\n",
    "    pad_to_max_tokens=True\n",
    "    \n",
    ")\n",
    "vectorize_layer.adapt(X)\n",
    "words_vocab=vectorize_layer.get_vocabulary()\n",
    "\n",
    "###############################################################################\n",
    "#Custom Embedding layer\n",
    "embed_layer=layers.Embedding(\n",
    "    input_dim=len(words_vocab),\n",
    "    output_dim=128,\n",
    "    embeddings_initializer='uniform',\n",
    "    input_length=max_len,\n",
    ")\n",
    "\n",
    "################################################################################"
   ]
  },
  {
   "cell_type": "code",
   "execution_count": 8,
   "id": "33c8b410",
   "metadata": {
    "_cell_guid": "e2590f0c-15a5-4b5e-a9bb-5fa409db468f",
    "_uuid": "a9b40c8e-1088-498d-adfd-8a6e55ef49b2",
    "collapsed": false,
    "execution": {
     "iopub.execute_input": "2023-10-28T07:32:28.358574Z",
     "iopub.status.busy": "2023-10-28T07:32:28.358193Z",
     "iopub.status.idle": "2023-10-28T07:32:28.372310Z",
     "shell.execute_reply": "2023-10-28T07:32:28.371047Z"
    },
    "jupyter": {
     "outputs_hidden": false
    },
    "papermill": {
     "duration": 0.024645,
     "end_time": "2023-10-28T07:32:28.374961",
     "exception": false,
     "start_time": "2023-10-28T07:32:28.350316",
     "status": "completed"
    },
    "tags": []
   },
   "outputs": [],
   "source": [
    "###############################################################################################\n",
    "#Custom CallBack and Scheduler\n",
    "early_stopping = tf.keras.callbacks.EarlyStopping(\n",
    "    patience=15,\n",
    "    min_delta=0.001,\n",
    "    restore_best_weights=True,\n",
    ")\n",
    "\n",
    "lr_schedule = tf.keras.optimizers.schedules.InverseTimeDecay(\n",
    "  0.001,\n",
    "  decay_steps=X.shape[0]*20,\n",
    "  decay_rate=1,\n",
    "  staircase=False)\n",
    "\n",
    "\n",
    "##################################################################################\n",
    "# Custom MODEL ASSEMBLING\n",
    "def tf_model(vectorize_layer, embed_layer):\n",
    "    model = Sequential()\n",
    "    \n",
    "    model.add(layers.Input(shape=(1,), dtype=tf.string))\n",
    "    model.add(tf.keras.layers.Lambda(preprocess_review))\n",
    "    model.add(vectorize_layer)\n",
    "    model.add(embed_layer)\n",
    "    \n",
    "    model.add(layers.Conv1D(filters=64, kernel_size=3, activation='relu'))\n",
    "    model.add(layers.MaxPooling1D(pool_size=2))\n",
    "\n",
    "    model.add(layers.Bidirectional(layers.LSTM(units=64, return_sequences=True)))\n",
    "    model.add(layers.BatchNormalization())\n",
    "    model.add(layers.Dropout(0.2))\n",
    "\n",
    "    model.add(layers.Bidirectional(layers.LSTM(units=128)))\n",
    "    model.add(layers.BatchNormalization())\n",
    "    model.add(layers.Dropout(0.2))\n",
    "\n",
    "    model.add(layers.Dense(units=32, activation='relu'))\n",
    "    model.add(layers.BatchNormalization())\n",
    "    model.add(layers.Dropout(0.2))\n",
    "\n",
    "    model.add(layers.Dense(units=6, activation='softmax'))\n",
    "    model.compile(\n",
    "        optimizer=tf.keras.optimizers.Adam(learning_rate=lr_schedule),\n",
    "        loss='categorical_crossentropy',\n",
    "        metrics=['acc']\n",
    "    )\n",
    "\n",
    "    return model"
   ]
  },
  {
   "cell_type": "code",
   "execution_count": 9,
   "id": "6321fcd7",
   "metadata": {
    "_cell_guid": "550adac7-af6f-40eb-be40-1dfcfb4fc68a",
    "_uuid": "571e7f08-51fe-4559-bc2a-0698826cc48b",
    "collapsed": false,
    "execution": {
     "iopub.execute_input": "2023-10-28T07:32:28.389518Z",
     "iopub.status.busy": "2023-10-28T07:32:28.389067Z",
     "iopub.status.idle": "2023-10-28T07:39:15.833212Z",
     "shell.execute_reply": "2023-10-28T07:39:15.831939Z"
    },
    "jupyter": {
     "outputs_hidden": false
    },
    "papermill": {
     "duration": 407.454397,
     "end_time": "2023-10-28T07:39:15.835708",
     "exception": false,
     "start_time": "2023-10-28T07:32:28.381311",
     "status": "completed"
    },
    "tags": []
   },
   "outputs": [
    {
     "name": "stdout",
     "output_type": "stream",
     "text": [
      "Epoch 1/30\n",
      "360/360 [==============================] - 36s 71ms/step - loss: 1.1892 - acc: 0.5564 - val_loss: 1.1242 - val_acc: 0.7490\n",
      "Epoch 2/30\n",
      "360/360 [==============================] - 23s 65ms/step - loss: 0.4144 - acc: 0.8646 - val_loss: 0.4953 - val_acc: 0.8185\n",
      "Epoch 3/30\n",
      "360/360 [==============================] - 23s 65ms/step - loss: 0.2416 - acc: 0.9211 - val_loss: 0.7288 - val_acc: 0.7835\n",
      "Epoch 4/30\n",
      "360/360 [==============================] - 23s 65ms/step - loss: 0.1699 - acc: 0.9461 - val_loss: 0.8149 - val_acc: 0.7970\n",
      "Epoch 5/30\n",
      "360/360 [==============================] - 23s 64ms/step - loss: 0.1352 - acc: 0.9570 - val_loss: 0.7288 - val_acc: 0.8090\n",
      "Epoch 6/30\n",
      "360/360 [==============================] - 23s 64ms/step - loss: 0.1046 - acc: 0.9656 - val_loss: 0.8330 - val_acc: 0.8100\n",
      "Epoch 7/30\n",
      "360/360 [==============================] - 23s 63ms/step - loss: 0.0910 - acc: 0.9710 - val_loss: 0.8553 - val_acc: 0.8215\n",
      "Epoch 8/30\n",
      "360/360 [==============================] - 23s 64ms/step - loss: 0.0842 - acc: 0.9730 - val_loss: 0.9636 - val_acc: 0.8015\n",
      "Epoch 9/30\n",
      "360/360 [==============================] - 23s 64ms/step - loss: 0.0728 - acc: 0.9768 - val_loss: 0.9024 - val_acc: 0.8165\n",
      "Epoch 10/30\n",
      "360/360 [==============================] - 23s 64ms/step - loss: 0.0739 - acc: 0.9757 - val_loss: 0.8669 - val_acc: 0.8200\n",
      "Epoch 11/30\n",
      "360/360 [==============================] - 23s 64ms/step - loss: 0.0630 - acc: 0.9811 - val_loss: 0.8940 - val_acc: 0.8140\n",
      "Epoch 12/30\n",
      "360/360 [==============================] - 23s 64ms/step - loss: 0.0498 - acc: 0.9836 - val_loss: 0.9017 - val_acc: 0.8060\n",
      "Epoch 13/30\n",
      "360/360 [==============================] - 23s 63ms/step - loss: 0.0568 - acc: 0.9819 - val_loss: 1.0180 - val_acc: 0.8105\n",
      "Epoch 14/30\n",
      "360/360 [==============================] - 23s 64ms/step - loss: 0.0479 - acc: 0.9841 - val_loss: 0.9574 - val_acc: 0.8205\n",
      "Epoch 15/30\n",
      "360/360 [==============================] - 23s 65ms/step - loss: 0.0482 - acc: 0.9845 - val_loss: 0.9025 - val_acc: 0.8150\n",
      "Epoch 16/30\n",
      "360/360 [==============================] - 23s 64ms/step - loss: 0.0484 - acc: 0.9847 - val_loss: 1.0283 - val_acc: 0.8175\n",
      "Epoch 17/30\n",
      "360/360 [==============================] - 23s 64ms/step - loss: 0.0404 - acc: 0.9873 - val_loss: 1.1038 - val_acc: 0.8105\n"
     ]
    },
    {
     "data": {
      "text/plain": [
       "<keras.callbacks.History at 0x7ffa76a05330>"
      ]
     },
     "execution_count": 9,
     "metadata": {},
     "output_type": "execute_result"
    }
   ],
   "source": [
    "#Model fitting.\n",
    "model=tf_model(vectorize_layer, embed_layer)\n",
    "model.fit(X_train,y_train,validation_data=[X_eval,y_eval],epochs=30,\n",
    "                callbacks=[early_stopping],batch_size=50)"
   ]
  },
  {
   "cell_type": "code",
   "execution_count": 10,
   "id": "0b6a6e96",
   "metadata": {
    "_cell_guid": "200a0a38-1e7e-445e-819a-ecbe20d79b63",
    "_uuid": "b5f01f29-e4c6-44d8-9a9a-8b47d3d7153f",
    "collapsed": false,
    "execution": {
     "iopub.execute_input": "2023-10-28T07:39:16.962728Z",
     "iopub.status.busy": "2023-10-28T07:39:16.961885Z",
     "iopub.status.idle": "2023-10-28T07:39:19.056907Z",
     "shell.execute_reply": "2023-10-28T07:39:19.055618Z"
    },
    "jupyter": {
     "outputs_hidden": false
    },
    "papermill": {
     "duration": 2.657991,
     "end_time": "2023-10-28T07:39:19.060364",
     "exception": false,
     "start_time": "2023-10-28T07:39:16.402373",
     "status": "completed"
    },
    "tags": []
   },
   "outputs": [
    {
     "name": "stdout",
     "output_type": "stream",
     "text": [
      "1/1 [==============================] - 2s 2s/step\n"
     ]
    }
   ],
   "source": [
    "Emotions=['sadness','joy','love','anger','fear','Surprise']\n",
    "Scores=model.predict(['I am happy about my life'])"
   ]
  },
  {
   "cell_type": "code",
   "execution_count": 11,
   "id": "0733aa13",
   "metadata": {
    "_cell_guid": "9f457591-b146-4202-b157-6b37a5d7c4c7",
    "_uuid": "5b7e997a-8d96-4026-887a-d0a6c9e92d86",
    "collapsed": false,
    "execution": {
     "iopub.execute_input": "2023-10-28T07:39:20.252285Z",
     "iopub.status.busy": "2023-10-28T07:39:20.251842Z",
     "iopub.status.idle": "2023-10-28T07:39:20.353337Z",
     "shell.execute_reply": "2023-10-28T07:39:20.352394Z"
    },
    "jupyter": {
     "outputs_hidden": false
    },
    "papermill": {
     "duration": 0.73052,
     "end_time": "2023-10-28T07:39:20.355674",
     "exception": false,
     "start_time": "2023-10-28T07:39:19.625154",
     "status": "completed"
    },
    "tags": []
   },
   "outputs": [
    {
     "name": "stdout",
     "output_type": "stream",
     "text": [
      "1/1 [==============================] - 0s 44ms/step\n"
     ]
    },
    {
     "data": {
      "text/plain": [
       "[['sadness', 'anger']]"
      ]
     },
     "execution_count": 11,
     "metadata": {},
     "output_type": "execute_result"
    }
   ],
   "source": [
    "Result=np.argpartition(-model.predict(['I am happy about my life']), kth=2, axis=1)[:, :2]\n",
    "[[map_emotion(value) for value in row] for row in Result]"
   ]
  },
  {
   "cell_type": "code",
   "execution_count": 12,
   "id": "e0e80371",
   "metadata": {
    "_cell_guid": "13bbe392-173c-4ac3-aa1f-d2b009450a4d",
    "_uuid": "65944996-d6d8-4804-b98d-74b87d673cea",
    "collapsed": false,
    "execution": {
     "iopub.execute_input": "2023-10-28T07:39:21.473828Z",
     "iopub.status.busy": "2023-10-28T07:39:21.472572Z",
     "iopub.status.idle": "2023-10-28T07:39:24.741202Z",
     "shell.execute_reply": "2023-10-28T07:39:24.740152Z"
    },
    "jupyter": {
     "outputs_hidden": false
    },
    "papermill": {
     "duration": 3.831884,
     "end_time": "2023-10-28T07:39:24.744243",
     "exception": false,
     "start_time": "2023-10-28T07:39:20.912359",
     "status": "completed"
    },
    "tags": []
   },
   "outputs": [],
   "source": [
    "#Saving and loading models...........\n",
    "import pickle\n",
    "with open('model_pickle','wb') as f:\n",
    "    pickle.dump(model,f)\n",
    "with open('model_pickle','rb') as f:\n",
    "    model_pkl=pickle.load(f)"
   ]
  },
  {
   "cell_type": "code",
   "execution_count": 13,
   "id": "e0e18db5",
   "metadata": {
    "execution": {
     "iopub.execute_input": "2023-10-28T07:39:25.978755Z",
     "iopub.status.busy": "2023-10-28T07:39:25.978235Z",
     "iopub.status.idle": "2023-10-28T07:39:57.901419Z",
     "shell.execute_reply": "2023-10-28T07:39:57.900294Z"
    },
    "papermill": {
     "duration": 32.57052,
     "end_time": "2023-10-28T07:39:57.904767",
     "exception": false,
     "start_time": "2023-10-28T07:39:25.334247",
     "status": "completed"
    },
    "tags": []
   },
   "outputs": [],
   "source": [
    "#Saving in tensorflow\n",
    "model.save('model.tf')"
   ]
  },
  {
   "cell_type": "code",
   "execution_count": 14,
   "id": "9a6872cf",
   "metadata": {
    "execution": {
     "iopub.execute_input": "2023-10-28T07:39:59.039041Z",
     "iopub.status.busy": "2023-10-28T07:39:59.038582Z",
     "iopub.status.idle": "2023-10-28T07:39:59.454983Z",
     "shell.execute_reply": "2023-10-28T07:39:59.453397Z"
    },
    "papermill": {
     "duration": 0.990525,
     "end_time": "2023-10-28T07:39:59.457867",
     "exception": false,
     "start_time": "2023-10-28T07:39:58.467342",
     "status": "completed"
    },
    "tags": []
   },
   "outputs": [
    {
     "data": {
      "text/plain": [
       "['model_job.pkl']"
      ]
     },
     "execution_count": 14,
     "metadata": {},
     "output_type": "execute_result"
    }
   ],
   "source": [
    "#Saving using joblib\n",
    "import joblib\n",
    "joblib.dump(model,'model_job.pkl')"
   ]
  },
  {
   "cell_type": "code",
   "execution_count": 15,
   "id": "ec3deebc",
   "metadata": {
    "execution": {
     "iopub.execute_input": "2023-10-28T07:40:00.582332Z",
     "iopub.status.busy": "2023-10-28T07:40:00.581934Z",
     "iopub.status.idle": "2023-10-28T07:40:02.655330Z",
     "shell.execute_reply": "2023-10-28T07:40:02.654086Z"
    },
    "papermill": {
     "duration": 2.643478,
     "end_time": "2023-10-28T07:40:02.657962",
     "exception": false,
     "start_time": "2023-10-28T07:40:00.014484",
     "status": "completed"
    },
    "tags": []
   },
   "outputs": [
    {
     "name": "stdout",
     "output_type": "stream",
     "text": [
      "1/1 [==============================] - 2s 2s/step\n"
     ]
    }
   ],
   "source": [
    "Scores=model_pkl.predict(['I am happy about my life'])\n",
    "Card={}\n",
    "for score,emotion in zip(Scores[0],Emotions):\n",
    "    Card[emotion]=str(score)\n",
    "with open('card.json','w') as file:\n",
    "    data=Card\n",
    "    json.dump(data,file)"
   ]
  }
 ],
 "metadata": {
  "kernelspec": {
   "display_name": "Python 3",
   "language": "python",
   "name": "python3"
  },
  "language_info": {
   "codemirror_mode": {
    "name": "ipython",
    "version": 3
   },
   "file_extension": ".py",
   "mimetype": "text/x-python",
   "name": "python",
   "nbconvert_exporter": "python",
   "pygments_lexer": "ipython3",
   "version": "3.10.12"
  },
  "papermill": {
   "default_parameters": {},
   "duration": 475.800843,
   "end_time": "2023-10-28T07:40:06.014400",
   "environment_variables": {},
   "exception": null,
   "input_path": "__notebook__.ipynb",
   "output_path": "__notebook__.ipynb",
   "parameters": {},
   "start_time": "2023-10-28T07:32:10.213557",
   "version": "2.4.0"
  }
 },
 "nbformat": 4,
 "nbformat_minor": 5
}
